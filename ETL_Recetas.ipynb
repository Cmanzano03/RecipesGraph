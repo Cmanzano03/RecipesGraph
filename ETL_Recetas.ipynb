{
 "cells": [
  {
   "cell_type": "markdown",
   "id": "5f909186-bca6-43f5-9ad5-e440da7d0948",
   "metadata": {},
   "source": [
    "# Pipeline ETL de datos del csv"
   ]
  },
  {
   "cell_type": "markdown",
   "id": "9b98c8f8-8ba4-4ccf-9dfb-7ff9b7e83a3e",
   "metadata": {},
   "source": [
    "## Extracción y transformación de los datos"
   ]
  },
  {
   "cell_type": "code",
   "execution_count": 1,
   "id": "e38dc49d-adee-4a49-b775-e7bf0476ea87",
   "metadata": {},
   "outputs": [
    {
     "name": "stdout",
     "output_type": "stream",
     "text": [
      "The history saving thread hit an unexpected error (OperationalError('attempt to write a readonly database')).History will not be written to the database.\n"
     ]
    },
    {
     "data": {
      "text/html": [
       "<div>\n",
       "<style scoped>\n",
       "    .dataframe tbody tr th:only-of-type {\n",
       "        vertical-align: middle;\n",
       "    }\n",
       "\n",
       "    .dataframe tbody tr th {\n",
       "        vertical-align: top;\n",
       "    }\n",
       "\n",
       "    .dataframe thead th {\n",
       "        text-align: right;\n",
       "    }\n",
       "</style>\n",
       "<table border=\"1\" class=\"dataframe\">\n",
       "  <thead>\n",
       "    <tr style=\"text-align: right;\">\n",
       "      <th></th>\n",
       "      <th>Food Product</th>\n",
       "      <th>Main Ingredient</th>\n",
       "      <th>Sweetener</th>\n",
       "      <th>Fat/Oil</th>\n",
       "      <th>Seasoning</th>\n",
       "      <th>Allergens</th>\n",
       "      <th>Main Macro</th>\n",
       "      <th>Caloric</th>\n",
       "      <th>Diets</th>\n",
       "    </tr>\n",
       "  </thead>\n",
       "  <tbody>\n",
       "    <tr>\n",
       "      <th>0</th>\n",
       "      <td>Almond Cookies</td>\n",
       "      <td>Almonds</td>\n",
       "      <td>Sugar</td>\n",
       "      <td>Butter</td>\n",
       "      <td>Flour</td>\n",
       "      <td>Almonds, Wheat, Dairy</td>\n",
       "      <td>fats</td>\n",
       "      <td>high</td>\n",
       "      <td>vegetarian, halal, kosher</td>\n",
       "    </tr>\n",
       "    <tr>\n",
       "      <th>2</th>\n",
       "      <td>Chicken Noodle Soup</td>\n",
       "      <td>Chicken broth</td>\n",
       "      <td>None</td>\n",
       "      <td>None</td>\n",
       "      <td>Salt</td>\n",
       "      <td>Chicken, Wheat, Celery</td>\n",
       "      <td>proteins</td>\n",
       "      <td>low</td>\n",
       "      <td>keto, diabetic, halal, kosher</td>\n",
       "    </tr>\n",
       "    <tr>\n",
       "      <th>4</th>\n",
       "      <td>Cheddar Cheese</td>\n",
       "      <td>Cheese</td>\n",
       "      <td>None</td>\n",
       "      <td>None</td>\n",
       "      <td>Salt</td>\n",
       "      <td>Dairy</td>\n",
       "      <td>proteins</td>\n",
       "      <td>low</td>\n",
       "      <td>vegetarian, keto, diabetic, halal, kosher</td>\n",
       "    </tr>\n",
       "    <tr>\n",
       "      <th>5</th>\n",
       "      <td>Ranch Dressing</td>\n",
       "      <td>Buttermilk</td>\n",
       "      <td>Sugar</td>\n",
       "      <td>Vegetable oil</td>\n",
       "      <td>Garlic, herbs</td>\n",
       "      <td>Dairy</td>\n",
       "      <td>proteins</td>\n",
       "      <td>high</td>\n",
       "      <td>vegetarian, halal, kosher</td>\n",
       "    </tr>\n",
       "    <tr>\n",
       "      <th>6</th>\n",
       "      <td>Caramel Popcorn</td>\n",
       "      <td>Popcorn</td>\n",
       "      <td>Sugar</td>\n",
       "      <td>Butter</td>\n",
       "      <td>Salt</td>\n",
       "      <td>Dairy</td>\n",
       "      <td>carbohydrates</td>\n",
       "      <td>high</td>\n",
       "      <td>vegetarian, halal, kosher</td>\n",
       "    </tr>\n",
       "  </tbody>\n",
       "</table>\n",
       "</div>"
      ],
      "text/plain": [
       "          Food Product Main Ingredient Sweetener        Fat/Oil  \\\n",
       "0       Almond Cookies         Almonds     Sugar         Butter   \n",
       "2  Chicken Noodle Soup   Chicken broth      None           None   \n",
       "4       Cheddar Cheese          Cheese      None           None   \n",
       "5       Ranch Dressing      Buttermilk     Sugar  Vegetable oil   \n",
       "6      Caramel Popcorn         Popcorn     Sugar         Butter   \n",
       "\n",
       "       Seasoning               Allergens     Main Macro Caloric  \\\n",
       "0          Flour   Almonds, Wheat, Dairy           fats    high   \n",
       "2           Salt  Chicken, Wheat, Celery       proteins     low   \n",
       "4           Salt                   Dairy       proteins     low   \n",
       "5  Garlic, herbs                   Dairy       proteins    high   \n",
       "6           Salt                   Dairy  carbohydrates    high   \n",
       "\n",
       "                                       Diets  \n",
       "0                  vegetarian, halal, kosher  \n",
       "2              keto, diabetic, halal, kosher  \n",
       "4  vegetarian, keto, diabetic, halal, kosher  \n",
       "5                  vegetarian, halal, kosher  \n",
       "6                  vegetarian, halal, kosher  "
      ]
     },
     "execution_count": 1,
     "metadata": {},
     "output_type": "execute_result"
    }
   ],
   "source": [
    "import pandas as pd\n",
    "\n",
    "# Cargar el archivo CSV\n",
    "csv_path = \"food_ingredients_and_allergens.csv\"\n",
    "df = pd.read_csv(csv_path)\n",
    "\n",
    "# --- LIMPIEZA BÁSICA ---\n",
    "\n",
    "# 1. Eliminar filas duplicadas\n",
    "df.drop_duplicates(inplace=True)\n",
    "\n",
    "# 2. Eliminar filas completamente vacías\n",
    "df.dropna(how='all', inplace=True)\n",
    "\n",
    "# 3. Eliminar espacios extra en nombres de columnas\n",
    "df.columns = df.columns.str.strip()\n",
    "\n",
    "# 4. Rellenar con \"None\" valores que son NaN en columnas clave\n",
    "df.fillna(value={\"Sweetener\": \"None\", \"Fat/Oil\": \"None\", \"Seasoning\": \"None\"}, inplace=True)\n",
    "\n",
    "# 5. Eliminar filas sin 'Food Product' o 'Main Ingredient' (esas no tienen sentido)\n",
    "df = df[~df['Food Product'].isna() & ~df['Main Ingredient'].isna()]\n",
    "\n",
    "# --- FIN LIMPIEZA BÁSICA ---\n",
    "\n",
    "# Paso 1: Quitar la última columna (Prediction)\n",
    "df = df.iloc[:, :-1]\n",
    "\n",
    "# Diccionario de clasificación de macronutrientes por ingrediente principal\n",
    "macro_dict = {\n",
    "    # proteínas\n",
    "    'chicken': 'proteins', 'beef': 'proteins', 'egg': 'proteins', 'cheese': 'proteins',\n",
    "    'lentil': 'proteins', 'tofu': 'proteins', 'milk': 'proteins', 'paneer': 'proteins',\n",
    "    'shrimp': 'proteins', 'salmon': 'proteins', 'fish': 'proteins', 'lamb': 'proteins',\n",
    "\n",
    "    # grasas\n",
    "    'almonds': 'fats', 'butter': 'fats', 'oil': 'fats', 'avocado': 'fats',\n",
    "    'peanut': 'fats', 'nuts': 'fats',\n",
    "\n",
    "    # carbohidratos\n",
    "    'sugar': 'carbohydrates', 'flour': 'carbohydrates', 'rice': 'carbohydrates',\n",
    "    'bread': 'carbohydrates', 'noodle': 'carbohydrates', 'pasta': 'carbohydrates',\n",
    "    'potato': 'carbohydrates', 'corn': 'carbohydrates', 'oats': 'carbohydrates',\n",
    "    'quinoa': 'carbohydrates', 'pizza dough': 'carbohydrates',\n",
    "\n",
    "    # frutas (puedes agrupar como carbohidratos si buscas energía rápida)\n",
    "    'apple': 'carbohydrates', 'banana': 'carbohydrates', 'mango': 'carbohydrates',\n",
    "    'strawberry': 'carbohydrates', 'berries': 'carbohydrates',\n",
    "\n",
    "    # verduras\n",
    "    'spinach': 'carbohydrates', 'tomato': 'carbohydrates', 'zucchini': 'carbohydrates',\n",
    "    'onion': 'carbohydrates', 'lettuce': 'carbohydrates', 'pumpkin': 'carbohydrates',\n",
    "    'mushroom': 'carbohydrates', 'vegetable': 'carbohydrates', 'chickpeas': 'carbohydrates'\n",
    "}\n",
    "\n",
    "\n",
    "# Normalizar ingredientes principales para búsqueda\n",
    "def clasificar_macro(ingrediente):\n",
    "    if pd.isna(ingrediente):\n",
    "        return 'unknown'\n",
    "    ing = ingrediente.lower()\n",
    "    for clave in macro_dict:\n",
    "        if clave in ing:\n",
    "            return macro_dict[clave]\n",
    "    return 'other'\n",
    "\n",
    "df[\"Main Macro\"] = df[\"Main Ingredient\"].apply(clasificar_macro)\n",
    "\n",
    "# Paso 3: Clasificación calórica (por sweetener y fat/oil)\n",
    "def clasificar_calorico(row):\n",
    "    sweetener = str(row['Sweetener']).lower()\n",
    "    fat = str(row['Fat/Oil']).lower()\n",
    "    score = 0\n",
    "    if any(s in sweetener for s in ['sugar', 'honey', 'syrup']):\n",
    "        score += 1\n",
    "    if any(f in fat for f in ['butter', 'oil', 'lard']):\n",
    "        score += 1\n",
    "    if score == 2:\n",
    "        return 'high'\n",
    "    elif score == 1:\n",
    "        return 'medium'\n",
    "    else:\n",
    "        return 'low'\n",
    "\n",
    "df[\"Caloric\"] = df.apply(clasificar_calorico, axis=1)\n",
    "\n",
    "\n",
    "#Paso 4: Clasificación dietética\n",
    "restricciones_dieta = {\n",
    "    \"vegetarian\": [\n",
    "        \"chicken\", \"beef\", \"pork\", \"fish\", \"shrimp\", \"gelatin\", \"lamb\", \"ham\"\n",
    "    ],\n",
    "    \"vegan\": [\n",
    "        \"chicken\", \"beef\", \"pork\", \"fish\", \"shrimp\", \"ham\"\n",
    "        \"milk\", \"cheese\", \"egg\", \"honey\", \"butter\", \"yogurt\", \"lamb\", \"gelatin\"\n",
    "    ],\n",
    "    \"keto\": [\n",
    "        \"sugar\", \"flour\", \"bread\", \"rice\", \"potato\", \"pasta\",\n",
    "        \"banana\", \"mango\", \"corn\", \"oats\", \"quinoa\", \"cake\", \"pastry\"\n",
    "    ],\n",
    "    \"diabetic\": [\n",
    "        \"sugar\", \"honey\", \"syrup\", \"flour\", \"white bread\", \"white rice\",\n",
    "        \"cake\", \"jam\", \"pastry\", \"sweetened condensed milk\", \"cookies\"\n",
    "    ],\n",
    "    \"halal\": [\n",
    "        \"pork\", \"bacon\", \"lard\", \"alcohol\", \"ham\", \"gelatin\", \"liqueur\"\n",
    "    ],\n",
    "    \"kosher\": [\n",
    "        \"pork\", \"shrimp\", \"shellfish\", \"bacon\", \"lobster\", \"crab\", \"ham\", \"prawns\", \"lobster\"\n",
    "    ]\n",
    "}\n",
    "\n",
    "def detectar_dietas(row):\n",
    "    dietas = []\n",
    "\n",
    "    main_ingredient = str(row[\"Main Ingredient\"]).lower()\n",
    "    sweetener = str(row[\"Sweetener\"]).lower()\n",
    "    fat = str(row[\"Fat/Oil\"]).lower()\n",
    "    seasoning = str(row[\"Seasoning\"]).lower()\n",
    "    allergens = str(row[\"Allergens\"]).lower()\n",
    "    macro = str(row[\"Main Macro\"]).lower()\n",
    "    caloric = str(row[\"Caloric\"]).lower()\n",
    "\n",
    "    for dieta, prohibidos in restricciones_dieta.items():\n",
    "        no_apto = False\n",
    "\n",
    "        # Revisa cada campo individualmente\n",
    "        for item in [main_ingredient, sweetener, fat, seasoning]:\n",
    "            if any(p in item for p in prohibidos):\n",
    "                no_apto = True\n",
    "                break\n",
    "\n",
    "        # Revisa alérgenos directamente (ideal para kosher, halal, sin lactosa, etc.)\n",
    "        if not no_apto:\n",
    "            if any(p.lower() in allergens for p in prohibidos):\n",
    "                no_apto = True\n",
    "\n",
    "        # Reglas específicas\n",
    "        if dieta == \"diabetic\" and macro == \"carbohydrates\" and caloric == \"high\":\n",
    "            no_apto = True\n",
    "\n",
    "        if dieta == \"keto\" and macro == \"carbohydrates\":\n",
    "            no_apto = True\n",
    "\n",
    "        if not no_apto:\n",
    "            dietas.append(dieta)\n",
    "\n",
    "    return \", \".join(dietas)\n",
    "\n",
    "\n",
    "\n",
    "df[\"Diets\"] = df.apply(detectar_dietas, axis=1)\n",
    "\n",
    "\n",
    "# Exportar el csv preprocesado\n",
    "df.to_csv(\"platos_preprocesados.csv\", index=False)\n",
    "\n",
    "# Mostrar las primeras filas\n",
    "df.head()\n"
   ]
  },
  {
   "cell_type": "markdown",
   "id": "93a93d26-d363-47f1-91fe-f20357e96729",
   "metadata": {},
   "source": [
    "## Visualización de los datos\n"
   ]
  },
  {
   "cell_type": "code",
   "execution_count": 4,
   "id": "9f2b1202-11d2-41a5-a21b-cf93e8373d62",
   "metadata": {},
   "outputs": [
    {
     "data": {
      "image/png": "[encoded data removed]",
      "text/plain": [
       "<Figure size 640x480 with 1 Axes>"
      ]
     },
     "metadata": {},
     "output_type": "display_data"
    }
   ],
   "source": [
    "# @title Caloric\n",
    "\n",
    "from matplotlib import pyplot as plt\n",
    "import seaborn as sns\n",
    "df.groupby('Caloric').size().plot(kind='barh', color=sns.palettes.mpl_palette('Dark2'))\n",
    "plt.gca().spines[['top', 'right',]].set_visible(False)"
   ]
  },
  {
   "cell_type": "code",
   "execution_count": 5,
   "id": "8083f9d3-c2fe-4481-aa9b-d5393e24a8b5",
   "metadata": {},
   "outputs": [
    {
     "data": {
      "image/png": "[encoded data removed]",
      "text/plain": [
       "<Figure size 640x480 with 1 Axes>"
      ]
     },
     "metadata": {},
     "output_type": "display_data"
    }
   ],
   "source": [
    "# @title Main Macro\n",
    "\n",
    "from matplotlib import pyplot as plt\n",
    "import seaborn as sns\n",
    "df.groupby('Main Macro').size().plot(kind='barh', color=sns.palettes.mpl_palette('Dark2'))\n",
    "plt.gca().spines[['top', 'right',]].set_visible(False)"
   ]
  },
  {
   "cell_type": "markdown",
   "id": "929b05c3-913d-4992-aba7-70a752ed0db8",
   "metadata": {},
   "source": [
    "## Carga en la BD Neo4j\n"
   ]
  },
  {
   "cell_type": "code",
   "execution_count": 7,
   "id": "461b118f-1885-4d3d-8d47-7f02455ce080",
   "metadata": {},
   "outputs": [
    {
     "name": "stdout",
     "output_type": "stream",
     "text": [
      "Conexión exitosa\n"
     ]
    }
   ],
   "source": [
    "from neo4j import GraphDatabase\n",
    "\n",
    "URI = \"bolt://localhost:7687\"\n",
    "USER = \"neo4j\"\n",
    "PASSWORD = \"admin123\"  # prueba con esta\n",
    "\n",
    "driver = GraphDatabase.driver(URI, auth=(USER, PASSWORD))\n",
    "\n",
    "# Probar conexión\n",
    "with driver.session() as session:\n",
    "    result = session.run(\"RETURN 'Conexión exitosa' AS mensaje\")\n",
    "    print(result.single()[\"mensaje\"])"
   ]
  },
  {
   "cell_type": "code",
   "execution_count": 2,
   "id": "7510520a-1cf8-4900-ad3d-6251121ec347",
   "metadata": {},
   "outputs": [],
   "source": [
    "import pandas as pd\n",
    "\n",
    "df = pd.read_csv(\"platos_preprocesados.csv\")\n"
   ]
  },
  {
   "cell_type": "code",
   "execution_count": 3,
   "id": "0ae36764-4539-4a6b-a411-3592845a4ef3",
   "metadata": {},
   "outputs": [],
   "source": [
    "def insert_meals(tx, row):\n",
    "    # Create Meal node\n",
    "    tx.run(\"\"\"\n",
    "        MERGE (m:Meal {name: $name})\n",
    "        SET m.macro = $macro, m.caloric = $caloric\n",
    "    \"\"\", name=row[\"Food Product\"], macro=row[\"Main Macro\"], caloric=row[\"Caloric\"])\n",
    "\n",
    "    # Ingredients (handling comma-separated multiple values)\n",
    "    for col in [\"Main Ingredient\", \"Sweetener\", \"Fat/Oil\", \"Seasoning\"]:\n",
    "        if pd.notna(row[col]):\n",
    "            ingredients = [ing.strip() for ing in str(row[col]).split(\",\") if ing.strip() and ing.strip().lower() != \"none\"]\n",
    "            for ing in ingredients:\n",
    "                tx.run(\"\"\"\n",
    "                    MERGE (i:Ingredient {name: toLower($ing)})\n",
    "                    MERGE (m:Meal {name: $name})\n",
    "                    MERGE (m)-[:CONTAINS_INGREDIENT]->(i)\n",
    "                \"\"\", ing=ing, name=row[\"Food Product\"])\n",
    "\n",
    "    # Allergens (now associated directly to meals)\n",
    "    if pd.notna(row[\"Allergens\"]):\n",
    "        for allergen in map(str.strip, row[\"Allergens\"].split(\",\")):\n",
    "            if allergen and allergen.lower() != \"none\":\n",
    "                tx.run(\"\"\"\n",
    "                    MERGE (a:Allergen {name: toLower($al)})\n",
    "                    MERGE (m:Meal {name: $meal})\n",
    "                    MERGE (m)-[:CONTAINS_ALLERGEN]->(a)\n",
    "                \"\"\", al=allergen, meal=row[\"Food Product\"])\n",
    "\n",
    "    # Diets\n",
    "    if pd.notna(row[\"Diets\"]):\n",
    "        for diet in map(str.strip, row[\"Diets\"].split(\",\")):\n",
    "            if diet and diet.lower() != \"none\":\n",
    "                tx.run(\"\"\"\n",
    "                    MERGE (d:Diet {name: toLower($diet)})\n",
    "                    MERGE (m:Meal {name: $name})\n",
    "                    MERGE (m)-[:SUITABLE_FOR]->(d)\n",
    "                \"\"\", diet=diet, name=row[\"Food Product\"])\n",
    "\n",
    "                "
   ]
  },
  {
   "cell_type": "code",
   "execution_count": 4,
   "id": "d55313e0-f530-4150-b1f4-77381a7ecea6",
   "metadata": {},
   "outputs": [
    {
     "name": "stderr",
     "output_type": "stream",
     "text": [
      "/tmp/ipykernel_22897/2464265133.py:3: DeprecationWarning: write_transaction has been renamed to execute_write\n",
      "  session.write_transaction(insert_meals, row)\n"
     ]
    }
   ],
   "source": [
    "with driver.session() as session:\n",
    "    for _, row in df.iterrows():\n",
    "        session.write_transaction(insert_meals, row)\n",
    "        "
   ]
  },
  {
   "cell_type": "markdown",
   "id": "0bd7d9eb-317b-4a72-9190-bda849631cec",
   "metadata": {},
   "source": [
    "## 3. Centralidad de ingredientes"
   ]
  },
  {
   "cell_type": "markdown",
   "id": "2028ce2f-7654-431e-8cd8-316c1eb55e93",
   "metadata": {},
   "source": [
    "En el tercer minado nos centramos en identificar los ingredientes más relevantes dentro de la red de recetas. Para ello, aplicamos el algoritmo PageRank sobre el grafo bipartito de platos e ingredientes (tipo de grafo en el que los elementos de un mismo tipo no se pueden relacionar entre sí). Este análisis permite detectar cuáles son los ingredientes más influyentes, no solo por su frecuencia, sino también por aparecer en recetas que a su vez están conectadas con otros ingredientes importantes. El resultado se representó con un gráfico de barras que muestra los ingredientes más centrales del ecosistema culinario."
   ]
  },
  {
   "cell_type": "code",
   "execution_count": 19,
   "id": "6e1effce-a8f3-4624-823f-04fc714a873c",
   "metadata": {},
   "outputs": [
    {
     "data": {
      "image/png": "[encoded data removed]",
      "text/plain": [
       "<Figure size 1200x600 with 1 Axes>"
      ]
     },
     "metadata": {},
     "output_type": "display_data"
    }
   ],
   "source": [
    "import pandas as pd\n",
    "import matplotlib.pyplot as plt\n",
    "import seaborn as sns\n",
    "from neo4j import GraphDatabase\n",
    "\n",
    "# Conexión con Neo4j\n",
    "driver = GraphDatabase.driver(\"bolt://localhost:7689\", auth=(\"neo4j\", \"admin123\"))\n",
    "\n",
    "# Consulta Cypher para obtener PageRank de ingredientes\n",
    "query = \"\"\"\n",
    "MATCH (i:Ingredient)\n",
    "WHERE i.pagerank IS NOT NULL\n",
    "RETURN i.name AS ingredient, i.pagerank AS score\n",
    "ORDER BY score DESC\n",
    "LIMIT 20\n",
    "\"\"\"\n",
    "\n",
    "# Ejecutar y cargar en DataFrame\n",
    "with driver.session() as session:\n",
    "    result = session.run(query)\n",
    "    data = [record.data() for record in result]\n",
    "df = pd.DataFrame(data)\n",
    "\n",
    "# Visualizar con seaborn\n",
    "plt.figure(figsize=(12, 6))\n",
    "sns.barplot(x=\"score\", y=\"ingredient\", data=df, palette=\"viridis\", legend=False, hue=\"ingredient\")\n",
    "plt.xlabel(\"PageRank\")\n",
    "plt.ylabel(\"Ingrediente\")\n",
    "plt.title(\"Top 20 Ingredientes más influyentes según PageRank\")\n",
    "plt.tight_layout()\n",
    "plt.show()\n"
   ]
  },
  {
   "cell_type": "code",
   "execution_count": null,
   "id": "bb4657c6-07dc-4a6d-84a3-5bb38958e9a6",
   "metadata": {},
   "outputs": [],
   "source": []
  }
 ],
 "metadata": {
  "kernelspec": {
   "display_name": "Neo_env",
   "language": "python",
   "name": "neo-env"
  },
  "language_info": {
   "codemirror_mode": {
    "name": "ipython",
    "version": 3
   },
   "file_extension": ".py",
   "mimetype": "text/x-python",
   "name": "python",
   "nbconvert_exporter": "python",
   "pygments_lexer": "ipython3",
   "version": "3.10.16"
  }
 },
 "nbformat": 4,
 "nbformat_minor": 5
}
