{
 "cells": [
  {
   "cell_type": "markdown",
   "id": "2d04bfbe-eb46-4c2d-bc72-5f2c38ec59a8",
   "metadata": {},
   "source": [
    "# MINADOS:"
   ]
  },
  {
   "cell_type": "markdown",
   "id": "e9eadff6-b070-40a5-bc4d-fd80abeb6234",
   "metadata": {},
   "source": [
    "## 1.Similitud de platos según ingredientes (Node Similarity)"
   ]
  },
  {
   "cell_type": "code",
   "execution_count": null,
   "id": "fe6dcb3b-58b9-4373-aa0e-fb660d917349",
   "metadata": {},
   "outputs": [],
   "source": [
    "query = \"\"\"\n",
    "MATCH (m1:Meal)-[r:SIMILAR_TO]->(m2:Meal)\n",
    "RETURN m1.name AS source, m2.name AS target, r.score AS weight\n",
    "\"\"\"\n",
    "\n",
    "with driver.session() as session:\n",
    "    result = session.run(query)\n",
    "    data = [record.data() for record in result]\n",
    "\n",
    "import pandas as pd\n",
    "df = pd.DataFrame(data)\n",
    "df.to_csv(\"meal_similarity.csv\", index=False)\n"
   ]
  },
  {
   "cell_type": "markdown",
   "id": "2521feb8-b9a0-4e60-9600-0e60d5c35e1f",
   "metadata": {},
   "source": [
    "En este primer minado aplicamos el algoritmo Node Similarity de Neo4j sobre los platos, utilizando los ingredientes compartidos como base. Esto nos permitió establecer relaciones directas entre platos similares, generando un grafo de similitud donde cada conexión representa un cierto grado de coincidencia culinaria. A partir de esta red, se pueden realizar recomendaciones de platos parecidos o encontrar variaciones basadas en ingredientes comunes. Esta estructura fue visualizada y explorada mediante Pyvis para identificar patrones temáticos como postres, ensaladas o platos principales."
   ]
  },
  {
   "cell_type": "markdown",
   "id": "56201339-f3b5-4a03-b0ce-ebb6b3f5fd53",
   "metadata": {},
   "source": [
    "Node Similarity no agrupa nodos en comunidades, sino que calcula una puntuación de similitud entre pares de nodos en función de los elementos que comparten. En este caso, la similitud entre platos se basa en los ingredientes en común, permitiendo establecer relaciones directas que pueden utilizarse para recomendaciones o análisis de variantes."
   ]
  },
  {
   "cell_type": "code",
   "execution_count": null,
   "id": "facd8d19-2a67-4c72-936f-44fdc6b23cf1",
   "metadata": {},
   "outputs": [],
   "source": [
    "import pandas as pd\n",
    "import networkx as nx\n",
    "import matplotlib.pyplot as plt\n",
    "from neo4j import GraphDatabase\n",
    "\n",
    "# Conectar a Neo4j\n",
    "driver = GraphDatabase.driver(URI, auth=(USER, PASSWORD))\n",
    "\n",
    "# Consulta Cypher para sacar relaciones SIMILAR_TO con score alto\n",
    "query = \"\"\"\n",
    "MATCH (m1:Meal)-[r:SIMILAR_TO]->(m2:Meal)\n",
    "WHERE r.score > 0.6\n",
    "RETURN m1.name AS source, m2.name AS target, r.score AS weight\n",
    "\"\"\"\n",
    "\n",
    "# Ejecutar y cargar en DataFrame\n",
    "with driver.session() as session:\n",
    "    result = session.run(query)\n",
    "    data = [record.data() for record in result]\n",
    "df = pd.DataFrame(data)\n",
    "\n",
    "# Crear grafo\n",
    "G = nx.from_pandas_edgelist(df, source='source', target='target', edge_attr='weight')\n",
    "\n",
    "# Dibujar\n",
    "plt.figure(figsize=(12, 10))\n",
    "pos = nx.spring_layout(G, k=0.5)\n",
    "edges = G.edges(data=True)\n",
    "weights = [d['weight'] * 5 for _, _, d in edges]\n",
    "\n",
    "nx.draw(G, pos, with_labels=True, node_size=500, font_size=8, edge_color=weights, width=2.0, edge_cmap=plt.cm.Blues)\n",
    "plt.title(\"Platos similares según ingredientes\")\n",
    "plt.show()\n"
   ]
  },
  {
   "cell_type": "markdown",
   "id": "31345ef8-1284-47f3-b903-3ce2278515fc",
   "metadata": {},
   "source": [
    "### Ahora, si usamos pyvis, podremos generar un gráfico más interactivo"
   ]
  },
  {
   "cell_type": "code",
   "execution_count": null,
   "id": "de4d7b19-cfdf-4120-8503-2711aec8509b",
   "metadata": {},
   "outputs": [],
   "source": [
    "import pandas as pd\n",
    "import networkx as nx\n",
    "from pyvis.network import Network\n",
    "from neo4j import GraphDatabase\n",
    "\n",
    "# Conexión con Neo4j\n",
    "driver = GraphDatabase.driver(\"bolt://localhost:7689\", auth=(\"neo4j\", \"admin123\"))\n",
    "\n",
    "# Consulta\n",
    "query = \"\"\"\n",
    "MATCH (m1:Meal)-[r:SIMILAR_TO]->(m2:Meal)\n",
    "WHERE r.score > 0.6\n",
    "RETURN m1.name AS source, m2.name AS target, r.score AS weight\n",
    "\"\"\"\n",
    "\n",
    "# Obtener datos\n",
    "with driver.session() as session:\n",
    "    result = session.run(query)\n",
    "    data = [record.data() for record in result]\n",
    "df = pd.DataFrame(data)\n",
    "\n",
    "# Crear grafo desde pandas (networkx)\n",
    "G = nx.from_pandas_edgelist(df, 'source', 'target', edge_attr='weight')\n",
    "\n",
    "# Crear visualización interactiva\n",
    "net = Network(height=\"750px\", width=\"100%\", notebook=False)\n",
    "net.add_nodes(G.nodes)\n",
    "\n",
    "# Agregar edges con atributos explícitos\n",
    "for u, v, d in G.edges(data=True):\n",
    "    net.add_edge(u, v, value=d['weight'], title=f\"Similitud: {d['weight']:.2f}\")\n",
    "\n",
    "# Opcional: agregar títulos a los nodos\n",
    "for node in net.nodes:\n",
    "    node['title'] = node['label']\n",
    "    node['value'] = 1\n",
    "\n",
    "# Guardar resultado\n",
    "net.write_html(\"similitud_meals.html\")\n",
    "#net.show(\"similitud_meals.html\")\n"
   ]
  },
  {
   "cell_type": "markdown",
   "id": "d778c2df-4acb-485a-b54f-28335a7896a4",
   "metadata": {},
   "source": [
    "## 2. Detección de comunidades de comidas (Louvain)"
   ]
  },
  {
   "cell_type": "markdown",
   "id": "a81a3e25-1e19-4891-b180-c29ceaae1731",
   "metadata": {},
   "source": [
    "Con el algoritmo de Louvain agrupamos automáticamente los platos en comunidades, basándonos en sus similitudes. Mientras que en el minado anterior conectamos cada plato con otros según su similitud (uno a uno), ahora identificamos grupos cohesivos de platos que están densamente conectados entre sí. Esto nos permite cuantificar y visualizar los clústeres naturales dentro del conjunto de recetas, no solo pares similares."
   ]
  },
  {
   "cell_type": "markdown",
   "id": "e21db5c4-ae04-4595-8792-0431b0bdf65d",
   "metadata": {},
   "source": [
    "Al tratarse de un algoritmo de aprendizaje no supervisado, el modelo no asigna un nombre a cada grupo, sino que simplemente detecta conjuntos de nodos que están densamente conectados entre sí. La interpretación de esos grupos queda a criterio del analista."
   ]
  },
  {
   "cell_type": "markdown",
   "id": "601e523a-69fd-4f06-ab04-c48fc783d433",
   "metadata": {},
   "source": [
    "En nuestro enfoque, el algoritmo Node Similarity se utiliza como paso previo a la detección de comunidades. Su función es generar un grafo de similitudes entre platos, calculando una puntuación para cada par en función de los ingredientes que comparten. A partir de este grafo, se aplica el algoritmo Louvain, que permite identificar grupos de platos densamente conectados entre sí. De este modo, la similitud entre recetas sirve como base estructural sobre la que Louvain puede detectar comunidades naturales, sin necesidad de etiquetas o clasificaciones previas."
   ]
  },
  {
   "cell_type": "code",
   "execution_count": null,
   "id": "4f85bbda-e781-4ddc-a34f-210dbf1ce18c",
   "metadata": {},
   "outputs": [],
   "source": [
    "import pandas as pd\n",
    "import networkx as nx\n",
    "from pyvis.network import Network\n",
    "from neo4j import GraphDatabase\n",
    "import matplotlib.pyplot as plt\n",
    "import seaborn as sns\n",
    "\n",
    "# Conexión con Neo4j\n",
    "driver = GraphDatabase.driver(\"bolt://localhost:7689\", auth=(\"neo4j\", \"admin123\"))\n",
    "\n",
    "# Consulta de Meals con comunidades y similitud\n",
    "query = \"\"\"\n",
    "MATCH (m1:Meal)-[r:SIMILAR_TO]->(m2:Meal)\n",
    "WHERE m1.community IS NOT NULL AND m2.community IS NOT NULL\n",
    "RETURN m1.name AS source, m2.name AS target, r.score AS weight, m1.community AS community1, m2.community AS community2\n",
    "\"\"\"\n",
    "\n",
    "# Ejecutar y cargar\n",
    "with driver.session() as session:\n",
    "    result = session.run(query)\n",
    "    data = [record.data() for record in result]\n",
    "df = pd.DataFrame(data)\n",
    "\n",
    "# Crear grafo con comunidad como grupo\n",
    "G = nx.from_pandas_edgelist(df, 'source', 'target', edge_attr='weight')\n",
    "comunidades = {}\n",
    "for _, row in df.iterrows():\n",
    "    comunidades[row['source']] = row['community1']\n",
    "    comunidades[row['target']] = row['community2']\n",
    "\n",
    "net = Network(height=\"750px\", width=\"100%\")\n",
    "for node in G.nodes:\n",
    "    net.add_node(node, label=node, group=comunidades.get(node, 0))\n",
    "\n",
    "for u, v, d in G.edges(data=True):\n",
    "    net.add_edge(u, v, value=d['weight'], title=f\"Similitud: {d['weight']:.2f}\")\n",
    "\n",
    "#net.show(\"meal_communities.html\")\n",
    "net.write_html(\"meal_communities.html\")\n"
   ]
  },
  {
   "cell_type": "code",
   "execution_count": null,
   "id": "563be505-d051-4e14-bbde-90bbcff02b7c",
   "metadata": {},
   "outputs": [],
   "source": [
    "# Distribución de comidas por comunidad\n",
    "community_counts = pd.Series(list(comunidades.values())).value_counts().sort_index()\n",
    "plt.figure(figsize=(10, 6))\n",
    "sns.barplot(x=community_counts.index, y=community_counts.values, palette=\"tab10\", hue=community_counts.index, legend=False)\n",
    "plt.xlabel(\"ID de comunidad\")\n",
    "plt.ylabel(\"Número de comidas\")\n",
    "plt.title(\"Distribución de Meals por Comunidad (Louvain)\")\n",
    "plt.xticks(rotation=45)\n",
    "plt.tight_layout()\n",
    "plt.show()\n"
   ]
  },
  {
   "cell_type": "markdown",
   "id": "bc58b819-b105-4612-b647-b8fd79b1017c",
   "metadata": {},
   "source": [
    "## 3. Centralidad de ingredientes"
   ]
  },
  {
   "cell_type": "markdown",
   "id": "46d849e5-88d2-4575-bab3-4e8aacac9fd5",
   "metadata": {},
   "source": [
    "En el tercer minado nos centramos en identificar los ingredientes más relevantes dentro de la red de recetas. Para ello, aplicamos el algoritmo PageRank sobre el grafo bipartito de platos e ingredientes (tipo de grafo en el que los elementos de un mismo tipo no se pueden relacionar entre sí). Este análisis permite detectar cuáles son los ingredientes más influyentes, no solo por su frecuencia, sino también por aparecer en recetas que a su vez están conectadas con otros ingredientes importantes. El resultado se representó con un gráfico de barras que muestra los ingredientes más centrales del ecosistema culinario."
   ]
  },
  {
   "cell_type": "code",
   "execution_count": null,
   "id": "cfebf3f8-787e-4d34-b4a6-7e30c43ac006",
   "metadata": {},
   "outputs": [],
   "source": [
    "import pandas as pd\n",
    "import matplotlib.pyplot as plt\n",
    "import seaborn as sns\n",
    "from neo4j import GraphDatabase\n",
    "\n",
    "# Conexión con Neo4j\n",
    "driver = GraphDatabase.driver(\"bolt://localhost:7689\", auth=(\"neo4j\", \"admin123\"))\n",
    "\n",
    "# Consulta Cypher para obtener PageRank de ingredientes\n",
    "query = \"\"\"\n",
    "MATCH (i:Ingredient)\n",
    "WHERE i.pagerank IS NOT NULL\n",
    "RETURN i.name AS ingredient, i.pagerank AS score\n",
    "ORDER BY score DESC\n",
    "LIMIT 20\n",
    "\"\"\"\n",
    "\n",
    "# Ejecutar y cargar en DataFrame\n",
    "with driver.session() as session:\n",
    "    result = session.run(query)\n",
    "    data = [record.data() for record in result]\n",
    "df = pd.DataFrame(data)\n",
    "\n",
    "# Visualizar con seaborn\n",
    "plt.figure(figsize=(12, 6))\n",
    "sns.barplot(x=\"score\", y=\"ingredient\", data=df, palette=\"viridis\", legend=False, hue=\"ingredient\")\n",
    "plt.xlabel(\"PageRank\")\n",
    "plt.ylabel(\"Ingrediente\")\n",
    "plt.title(\"Top 20 Ingredientes más influyentes según PageRank\")\n",
    "plt.tight_layout()\n",
    "plt.show()\n"
   ]
  }
 ],
 "metadata": {
  "kernelspec": {
   "display_name": "Neo_env",
   "language": "python",
   "name": "neo-env"
  },
  "language_info": {
   "codemirror_mode": {
    "name": "ipython",
    "version": 3
   },
   "file_extension": ".py",
   "mimetype": "text/x-python",
   "name": "python",
   "nbconvert_exporter": "python",
   "pygments_lexer": "ipython3",
   "version": "3.10.16"
  }
 },
 "nbformat": 4,
 "nbformat_minor": 5
}
